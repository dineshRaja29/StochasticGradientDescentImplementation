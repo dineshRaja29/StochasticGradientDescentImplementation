{
  "cells": [
    {
      "cell_type": "markdown",
      "metadata": {
        "id": "view-in-github",
        "colab_type": "text"
      },
      "source": [
        "<a href=\"https://colab.research.google.com/github/dineshRaja29/StochasticGradientDescentImplementation/blob/main/SGDscratch.ipynb\" target=\"_parent\"><img src=\"https://colab.research.google.com/assets/colab-badge.svg\" alt=\"Open In Colab\"/></a>"
      ]
    },
    {
      "cell_type": "markdown",
      "source": [
        "#<font color='green'><b>Implementation of SGD </b></font>"
      ],
      "metadata": {
        "id": "fhy03yeoBj9B"
      }
    },
    {
      "cell_type": "markdown",
      "source": [
        "We are implementing SGD using basic python libraries for linear regression on boston housing dataset"
      ],
      "metadata": {
        "id": "D6FTaOj1B3Yt"
      }
    },
    {
      "cell_type": "markdown",
      "source": [
        "###<font color='green'><b>IMPORTING LIBRARIES </b></font>"
      ],
      "metadata": {
        "id": "ZqgVWxGQCCZ2"
      }
    },
    {
      "cell_type": "code",
      "execution_count": null,
      "metadata": {
        "id": "REYPoTJ1Af7u",
        "outputId": "ee6da467-0f0a-4982-d8f8-e9f947f17e82"
      },
      "outputs": [
        {
          "name": "stderr",
          "output_type": "stream",
          "text": [
            "/home/dinesh/anaconda3/lib/python3.6/site-packages/sklearn/cross_validation.py:41: DeprecationWarning: This module was deprecated in version 0.18 in favor of the model_selection module into which all the refactored classes and functions are moved. Also note that the interface of the new CV iterators are different from that of this module. This module will be removed in 0.20.\n",
            "  \"This module will be removed in 0.20.\", DeprecationWarning)\n"
          ]
        }
      ],
      "source": [
        "import warnings\n",
        "warnings.filterwarnings(\"ignore\")\n",
        "from sklearn.datasets import load_boston\n",
        "from random import seed\n",
        "from random import randrange\n",
        "from csv import reader\n",
        "from math import sqrt\n",
        "from sklearn import preprocessing\n",
        "import pandas as pd\n",
        "import numpy as np\n",
        "import matplotlib.pyplot as plt\n",
        "from prettytable import PrettyTable\n",
        "from sklearn.linear_model import SGDRegressor\n",
        "from sklearn import preprocessing\n",
        "from sklearn.metrics import mean_squared_error\n",
        "from sklearn.preprocessing import StandardScaler\n",
        "import random \n",
        "from sklearn import cross_validation\n",
        "from sklearn.cross_validation import train_test_split\n",
        "from sklearn.cross_validation import cross_val_score\n",
        "from sklearn.metrics import mean_squared_error\n",
        "import pandas as pd\n",
        "from sklearn.datasets import load_boston\n",
        "import sklearn\n",
        "from sklearn import cross_validation\n",
        "from sklearn.cross_validation import train_test_split\n",
        "from sklearn.cross_validation import cross_val_score\n",
        "from sklearn.metrics import mean_squared_error\n",
        "from sklearn import linear_model\n",
        "from sklearn.linear_model import LinearRegression"
      ]
    },
    {
      "cell_type": "markdown",
      "source": [
        "###<font color='green'><b>DATASET PREPARATION </b></font>"
      ],
      "metadata": {
        "id": "BWannlxiCjd5"
      }
    },
    {
      "cell_type": "code",
      "execution_count": null,
      "metadata": {
        "id": "Nv_bCGSQBaHY",
        "outputId": "4e38f3f7-4bc3-444c-a0dc-16706b71035b"
      },
      "outputs": [
        {
          "name": "stdout",
          "output_type": "stream",
          "text": [
            "*** Head ****** \n",
            "         0     1     2    3      4      5     6       7    8      9     10  \\\n",
            "0  0.00632  18.0  2.31  0.0  0.538  6.575  65.2  4.0900  1.0  296.0  15.3   \n",
            "1  0.02731   0.0  7.07  0.0  0.469  6.421  78.9  4.9671  2.0  242.0  17.8   \n",
            "2  0.02729   0.0  7.07  0.0  0.469  7.185  61.1  4.9671  2.0  242.0  17.8   \n",
            "3  0.03237   0.0  2.18  0.0  0.458  6.998  45.8  6.0622  3.0  222.0  18.7   \n",
            "4  0.06905   0.0  2.18  0.0  0.458  7.147  54.2  6.0622  3.0  222.0  18.7   \n",
            "\n",
            "       11    12  \n",
            "0  396.90  4.98  \n",
            "1  396.90  9.14  \n",
            "2  392.83  4.03  \n",
            "3  394.63  2.94  \n",
            "4  396.90  5.33  \n"
          ]
        }
      ],
      "source": [
        "boston = load_boston()\n",
        "bos = pd.DataFrame(boston.data)\n",
        "bos['PRICE'] = boston.target\n",
        "X = bos.drop('PRICE', axis = 1)\n",
        "Y = bos['PRICE']\n",
        "print(\"*** Head ******\",X.head())"
      ]
    },
    {
      "cell_type": "code",
      "execution_count": null,
      "metadata": {
        "collapsed": true,
        "id": "VJX24Bv8BaHZ"
      },
      "outputs": [],
      "source": [
        "X_train, X_test, Y_train, Y_test = cross_validation.train_test_split(X,\\\n",
        "                                   Y, test_size = 0.33, random_state = 5)"
      ]
    },
    {
      "cell_type": "code",
      "execution_count": null,
      "metadata": {
        "collapsed": true,
        "id": "11jFKB9LBaHa"
      },
      "outputs": [],
      "source": [
        "scaler = StandardScaler()\n",
        "scaler.fit(X_train)\n",
        "X_train = scaler.transform(X_train)\n",
        "X_test = scaler.transform(X_test)"
      ]
    },
    {
      "cell_type": "code",
      "execution_count": null,
      "metadata": {
        "collapsed": true,
        "id": "uTwVmjMPBaHb"
      },
      "outputs": [],
      "source": [
        "Y_train = np.array(Y_train)\n",
        "stddev = np.std(Y_train)\n",
        "mean = np.mean(Y_train)\n",
        "Y_train = (Y_train - mean)/stddev\n",
        "Y_test = (Y_test - mean)/stddev"
      ]
    },
    {
      "cell_type": "markdown",
      "source": [
        "###<font color='green'><b>ALGORITHM </b></font>"
      ],
      "metadata": {
        "id": "blvqn1qoDPJ1"
      }
    },
    {
      "cell_type": "code",
      "execution_count": null,
      "metadata": {
        "id": "mN6ZGieYBaHb",
        "outputId": "8e74f297-83e1-450d-bb0a-bdbadd3cdccc"
      },
      "outputs": [
        {
          "name": "stdout",
          "output_type": "stream",
          "text": [
            "*** w optimal ********** [ 0.28489816  0.2886467  -0.25916833  0.1482872  -0.14143133 -0.0922643\n",
            " -0.23714651  0.03276024 -0.03656666 -0.07650143 -0.01564441  0.3712276\n",
            " -0.02316345]\n",
            "***  b ********** -0.11673976940362175\n",
            "iters 100\n"
          ]
        }
      ],
      "source": [
        "start_point = random.randint(0,len(X_train)-1)\n",
        "W = np.array(X_train[start_point, :])\n",
        "b = Y_train[start_point] # The algorithm starts at W & b\n",
        "r = float(1) # step size \n",
        "precision = 0.00001\n",
        "max_iters = 100 # maximum number of iterations\n",
        "iters = 0 #iteration counter\n",
        "W_optimal = W   \n",
        "b_optimal = b\n",
        "\n",
        "def summation_w(W, r, b):\n",
        "    result = 0\n",
        "    loop_count = random.randint(1,len(X_train)-1)\n",
        "    for i in range(0,loop_count):\n",
        "        index = random.randint(0,len(X_train)-1);\n",
        "        w = np.array(W)\n",
        "        w = np.transpose(w)\n",
        "        x = np.array(X_train[index, : ])\n",
        "        y = int(Y_train[index])\n",
        "        result = result + ( x * 2 * (-1) * (y - float(np.matmul(w,x)) - float(b)))\n",
        "    result = result / loop_count\n",
        "    return result  \n",
        "\n",
        "def summation_b(W, r, b):\n",
        "    result = 0\n",
        "    loop_count = random.randint(1,len(X_train)-1)\n",
        "    for i in range(0,loop_count):\n",
        "        index = random.randint(0,len(X_train)-1);\n",
        "        w = np.array(W)\n",
        "        w = np.transpose(w)\n",
        "        x = np.array(X_train[index, : ])\n",
        "        y = int(Y_train[index])\n",
        "        result = np.array(result + ((-1)*2  *(y - float(np.matmul(w,x)) - float(b))))\n",
        "    result = result / loop_count\n",
        "    return result  \n",
        "\n",
        "w_iteration_stop = True\n",
        "b_iteration_stop = True\n",
        "\n",
        "while iters < max_iters:\n",
        "    if(all(np.array(abs((np.array(W_optimal) -  np.array(W)))) == precision) and iters > 1):\n",
        "        print(\"W is \", W)\n",
        "        print(\"W optimal is \",W_optimal)\n",
        "        print(\" (np.array(W_optimal) -  np.array(W))\",np.array(W_optimal) -  np.array(W))\n",
        "        print(\"(np.array(W_optimal) -  np.array(W)\", abs(np.array(W_optimal) -  np.array(W)))\n",
        "        print(\"true case is \",abs(np.array(W_optimal) -  np.array(W)) > 0.000001)\n",
        "        w_iteration_stop = False\n",
        "        print(\"***iterator for w \",iters)\n",
        "    if(abs(b_optimal - b) == precision and iters > 1):\n",
        "        b_iteration_stop = False\n",
        "        print(\"***iterator for b \",iters)\n",
        "    W = W_optimal\n",
        "    b = b_optimal\n",
        "    if(w_iteration_stop):\n",
        "        W_optimal = W - r * np.array(summation_w(W,r,b))\n",
        "    if(b_iteration_stop):\n",
        "        b_optimal = b - r *summation_b(W,r,b)\n",
        "    iters+=1\n",
        "    r/=2\n",
        "\n",
        "print(\"*** w optimal **********\", (W_optimal))\n",
        "print(\"***  b **********\", b_optimal)\n",
        "print(\"iters\",iters)"
      ]
    },
    {
      "cell_type": "markdown",
      "source": [
        "###<font color='green'><b>RESULTS</b></font>"
      ],
      "metadata": {
        "id": "I-XNAzUGDeXM"
      }
    },
    {
      "cell_type": "code",
      "execution_count": null,
      "metadata": {
        "id": "NTQ2iH-kAwbo",
        "scrolled": true,
        "outputId": "37140fe9-7520-413c-bcb7-8f25f32af8e2"
      },
      "outputs": [
        {
          "name": "stdout",
          "output_type": "stream",
          "text": [
            "** Mean Square Error on Sklearn implementation of Linear Regression is ***  0.3659056054690585\n",
            "** Mean Square Error on Our Implementation of Linear Regression is ***  1.2245485684581974\n"
          ]
        }
      ],
      "source": [
        "lm = linear_model.SGDRegressor(max_iter=1000, tol=1e-5)\n",
        "lm.fit(X_train, Y_train)\n",
        "\n",
        "Y_pred = lm.predict(X_test)\n",
        "sklearn_mse = mean_squared_error(Y_test, Y_pred)\n",
        "print(\"** Mean Square Error on Sklearn implementation of Linear Regression is *** \",sklearn_mse )\n",
        "\n",
        "Y_pred_mine = []\n",
        "for point in X_test:\n",
        "    x = np.array(point)\n",
        "    w = np.transpose(W_optimal)\n",
        "    predict = float(np.matmul(w,x)) + b_optimal;\n",
        "    Y_pred_mine.append(predict)\n",
        "sklearn_mse = mean_squared_error(Y_test, Y_pred_mine)\n",
        "print(\"** Mean Square Error on Our Implementation of Linear Regression is *** \",sklearn_mse )    "
      ]
    },
    {
      "cell_type": "markdown",
      "source": [
        "###<font color='green'><b>VISUAL REPRESENTATION OF RESULTS </b></font>"
      ],
      "metadata": {
        "id": "32xaQsEaECAm"
      }
    },
    {
      "cell_type": "markdown",
      "metadata": {
        "id": "5clOz8CJBaHg"
      },
      "source": [
        "####<font color='green'><b> Actual Prediction Vs Own Prediction"
      ]
    },
    {
      "cell_type": "code",
      "execution_count": null,
      "metadata": {
        "id": "FgUW39s6Be0U",
        "outputId": "4feec4c7-adc5-4794-9b74-b9f93e98bdce"
      },
      "outputs": [
        {
          "data": {
            "image/png": "[encoded data removed]",
            "text/plain": [
              "<matplotlib.figure.Figure at 0x7f3038a557f0>"
            ]
          },
          "metadata": {},
          "output_type": "display_data"
        }
      ],
      "source": [
        "plt.scatter(Y_test, Y_pred_mine)\n",
        "plt.xlabel(\"Actual prediction\")\n",
        "plt.ylabel(\"Own Prediction\")\n",
        "plt.title(\"Actual Prediction Vs Own Prediction\")\n",
        "plt.show()"
      ]
    },
    {
      "cell_type": "markdown",
      "metadata": {
        "id": "24rBhOmaBaHh"
      },
      "source": [
        "####<font color='green'><b>Actual Prediction Vs Sklearn Prediction"
      ]
    },
    {
      "cell_type": "code",
      "execution_count": null,
      "metadata": {
        "id": "6QIh19l4BaHi",
        "outputId": "540d2f89-1b63-4f92-c7b7-dd095dbec7b3"
      },
      "outputs": [
        {
          "data": {
            "image/png": "[encoded data removed]",
            "text/plain": [
              "<matplotlib.figure.Figure at 0x7f3038a554a8>"
            ]
          },
          "metadata": {},
          "output_type": "display_data"
        }
      ],
      "source": [
        "plt.scatter(Y_test, Y_pred)\n",
        "plt.xlabel(\"Actual prediction\")\n",
        "plt.ylabel(\"Sklearn Prediction\")\n",
        "plt.title(\"Actual Prediction Vs Sklearn Prediction\")\n",
        "plt.show()"
      ]
    },
    {
      "cell_type": "markdown",
      "source": [
        "###<font color='green'><b>SUMMARY </b></font>"
      ],
      "metadata": {
        "id": "hF-otOb_EcuS"
      }
    },
    {
      "cell_type": "code",
      "execution_count": null,
      "metadata": {
        "id": "bOap6pnJBaHj",
        "outputId": "34d3fbad-833d-4de0-f00d-eb62a14ae6cb"
      },
      "outputs": [
        {
          "name": "stdout",
          "output_type": "stream",
          "text": [
            "+--------------------------------------------------------------------------+\n",
            "|                             Sklearn Weights                              |\n",
            "+--------------------------------------------------------------------------+\n",
            "| [-0.12747451  0.07028662 -0.06074043  0.02479953 -0.10890445  0.33465173 |\n",
            "|  -0.0506078  -0.2650946   0.14354586 -0.07930649 -0.22583017  0.11304745 |\n",
            "|                               -0.3641685 ]                               |\n",
            "+--------------------------------------------------------------------------+\n",
            "+-------------------------------------------------------------------------+\n",
            "|                        Own Implementation Weights                       |\n",
            "+-------------------------------------------------------------------------+\n",
            "| [ 0.28489816  0.2886467  -0.25916833  0.1482872  -0.14143133 -0.0922643 |\n",
            "|  -0.23714651  0.03276024 -0.03656666 -0.07650143 -0.01564441  0.3712276 |\n",
            "|                               -0.02316345]                              |\n",
            "+-------------------------------------------------------------------------+\n"
          ]
        }
      ],
      "source": [
        "t = PrettyTable(['Sklearn Weights '])\n",
        "t.add_row([lm.coef_ ])\n",
        "print(t)\n",
        "t_own = PrettyTable(['Own Implementation Weights'])\n",
        "t_own.add_row([W_optimal])\n",
        "print(t_own)"
      ]
    },
    {
      "cell_type": "code",
      "execution_count": null,
      "metadata": {
        "id": "xL2NyODUBaHj",
        "outputId": "650cee1f-4981-45eb-f816-ace13e6b2b15"
      },
      "outputs": [
        {
          "name": "stdout",
          "output_type": "stream",
          "text": [
            "+--------+-----------------------------+------+\n",
            "| Sr.No  |    Implementation Detail    | MSE  |\n",
            "+--------+-----------------------------+------+\n",
            "|   1    | Scikit learn implementation | 0.36 |\n",
            "|   2    |      Own implementation     | 1.22 |\n",
            "+--------+-----------------------------+------+\n"
          ]
        }
      ],
      "source": [
        "t = PrettyTable(['Sr.No ', 'Implementation Detail','MSE'])\n",
        "t.add_row([1,'Scikit learn implementation','0.36'])\n",
        "t.add_row([2,'Own implementation','1.22'])\n",
        "print(t)"
      ]
    }
  ],
  "metadata": {
    "colab": {
      "name": "SGDscratch.ipynb",
      "provenance": [],
      "include_colab_link": true
    },
    "kernelspec": {
      "display_name": "Python 3",
      "language": "python",
      "name": "python3"
    },
    "language_info": {
      "codemirror_mode": {
        "name": "ipython",
        "version": 3
      },
      "file_extension": ".py",
      "mimetype": "text/x-python",
      "name": "python",
      "nbconvert_exporter": "python",
      "pygments_lexer": "ipython3",
      "version": "3.6.3"
    }
  },
  "nbformat": 4,
  "nbformat_minor": 0
}